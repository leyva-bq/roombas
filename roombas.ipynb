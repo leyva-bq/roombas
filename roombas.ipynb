{
 "cells": [
  {
   "cell_type": "markdown",
   "metadata": {},
   "source": [
    "## imports"
   ]
  },
  {
   "cell_type": "code",
   "execution_count": 25,
   "metadata": {},
   "outputs": [],
   "source": [
    "import threading as th\n",
    "import time\n",
    "import random"
   ]
  },
  {
   "cell_type": "markdown",
   "metadata": {},
   "source": [
    "## settings"
   ]
  },
  {
   "cell_type": "code",
   "execution_count": 26,
   "metadata": {},
   "outputs": [],
   "source": [
    "params = {\n",
    "    \"numRoombas\": 1,\n",
    "    \"m\": 3,\n",
    "    \"n\": 2,\n",
    "    \"numSucio\": 1,\n",
    "    \"posInicial\": [0, 0],\n",
    "    \"segundosMax\": 5\n",
    "}"
   ]
  },
  {
   "cell_type": "markdown",
   "metadata": {},
   "source": [
    "## funciones de agentes"
   ]
  },
  {
   "cell_type": "markdown",
   "metadata": {},
   "source": [
    "### movimientos"
   ]
  },
  {
   "cell_type": "code",
   "execution_count": 27,
   "metadata": {},
   "outputs": [],
   "source": [
    "def moverArriba(pos, numRoomba):\n",
    "    global habitacion\n",
    "    \n",
    "    max_x, max_y = len(habitacion) - 1, len(habitacion[0] - 1)\n",
    "    pos_x, pos_y = pos\n",
    "    \n",
    "    # si se encuentra en el borde de arriba, no moverse\n",
    "    if pos_x == 0:\n",
    "        return False\n",
    "    \n",
    "    # si el siguiente paso esta limpio o hay otra roomba\n",
    "    if habitacion[pos_x - 1][pos_y] == \"o\" or habitacion[pos_x - 1][pos_y][0] == \"R\":\n",
    "        return False\n",
    "    \n",
    "    # hacer movimiento\n",
    "    habitacion[pos_x][pos_y] = \"o\"\n",
    "    habitacion[pos_x - 1][pos_y] = numRoomba\n",
    "    \n",
    "    return True"
   ]
  },
  {
   "cell_type": "code",
   "execution_count": 28,
   "metadata": {},
   "outputs": [],
   "source": [
    "def moverDerecha(pos, numRoomba):\n",
    "    global habitacion\n",
    "    \n",
    "    max_x, max_y = len(habitacion) - 1, len(habitacion[0] - 1)\n",
    "    pos_x, pos_y = pos\n",
    "    \n",
    "    # si se encuentra en el borde de derecha, no moverse\n",
    "    if pos_y == max_y:\n",
    "        return False\n",
    "    \n",
    "    # si el siguiente paso esta limpio o hay otra roomba\n",
    "    if habitacion[pos_x][pos_y + 1] == \"o\" or habitacion[pos_x][pos_y + 1][0] == \"R\":\n",
    "        return False\n",
    "    \n",
    "    # hacer movimiento\n",
    "    habitacion[pos_x][pos_y] = \"o\"\n",
    "    habitacion[pos_x][pos_y + 1] = numRoomba\n",
    "    \n",
    "    return True"
   ]
  },
  {
   "cell_type": "code",
   "execution_count": 29,
   "metadata": {},
   "outputs": [],
   "source": [
    "def moverAbajo(pos, numRoomba):\n",
    "    global habitacion\n",
    "    \n",
    "    max_x, max_y = len(habitacion) - 1, len(habitacion[0] - 1)\n",
    "    pos_x, pos_y = pos\n",
    "    \n",
    "    # si se encuentra en el borde de abajo, no moverse\n",
    "    if pos_x == max_x:\n",
    "        return False\n",
    "    \n",
    "    # si el siguiente paso esta limpio o hay otra roomba\n",
    "    if habitacion[pos_x + 1][pos_y] == \"o\" or habitacion[pos_x + 1][pos_y][0] == \"R\":\n",
    "        return False\n",
    "    \n",
    "    # hacer movimiento\n",
    "    habitacion[pos_x][pos_y] = \"o\"\n",
    "    habitacion[pos_x + 1][pos_y] = numRoomba\n",
    "    \n",
    "    return True"
   ]
  },
  {
   "cell_type": "code",
   "execution_count": 30,
   "metadata": {},
   "outputs": [],
   "source": [
    "def moverIzquierda(pos, numRoomba):\n",
    "    global habitacion\n",
    "    \n",
    "    max_x, max_y = len(habitacion) - 1, len(habitacion[0] - 1)\n",
    "    pos_x, pos_y = pos\n",
    "    \n",
    "    # si se encuentra en el borde de izquierda, no moverse\n",
    "    if pos_y == 0:\n",
    "        return False\n",
    "    \n",
    "    # si el siguiente paso esta limpio o hay otra roomba\n",
    "    if habitacion[pos_x][pos_y - 1] == \"o\" or habitacion[pos_x][pos_y - 1][0] == \"R\":\n",
    "        return False\n",
    "    \n",
    "    # hacer movimiento\n",
    "    habitacion[pos_x][pos_y] = \"o\"\n",
    "    habitacion[pos_x][pos_y - 1] = numRoomba\n",
    "    \n",
    "    return True"
   ]
  },
  {
   "cell_type": "code",
   "execution_count": 31,
   "metadata": {},
   "outputs": [],
   "source": [
    "def moverRoomba(pos, numRoomba):\n",
    "    \n",
    "    # mover arriba\n",
    "    if not moverArriba(pos, numRoomba):\n",
    "        # mover derecha\n",
    "        if not moverDerecha(pos, numRoomba):\n",
    "            # mover abajo\n",
    "            if not moverAbajo(pos, numRoomba):\n",
    "                # mover izquierda\n",
    "                moverIzquierda(pos, numRoomba)"
   ]
  },
  {
   "cell_type": "markdown",
   "metadata": {},
   "source": [
    "## agentes"
   ]
  },
  {
   "cell_type": "code",
   "execution_count": 32,
   "metadata": {},
   "outputs": [],
   "source": [
    "def roomba(posInicial, numRoomba):\n",
    "    global habitacion\n",
    "    pos = posInicial\n",
    "    \n",
    "    print(\"Estoy en {}: {}\".format(pos, habitacion[pos[0]][pos[1]]))\n",
    "    \n",
    "    moverRoomba(pos, numRoomba)\n",
    "    \n",
    "    time.sleep(1)\n",
    "    \n",
    "    return"
   ]
  },
  {
   "cell_type": "markdown",
   "metadata": {},
   "source": [
    "## modelo"
   ]
  },
  {
   "cell_type": "code",
   "execution_count": 33,
   "metadata": {},
   "outputs": [],
   "source": [
    "def roombas(params):\n",
    "    \n",
    "    listaRoombas = []\n",
    "    global habitacion\n",
    "    habitacion = [[\"_\" for _ in range(params[\"n\"])] for _ in range(params[\"m\"])]\n",
    "    \n",
    "    habitacion[1][1] = \"x\"\n",
    "    \n",
    "    for k in range(params[\"numRoombas\"]):\n",
    "        t = th.Thread(target=roomba, args=(params[\"posInicial\"], params[\"numRoombas\"]))\n",
    "        listaRoombas.append(t)\n",
    "        t.start()"
   ]
  },
  {
   "cell_type": "markdown",
   "metadata": {},
   "source": [
    "## main"
   ]
  },
  {
   "cell_type": "code",
   "execution_count": 34,
   "metadata": {},
   "outputs": [
    {
     "name": "stdout",
     "output_type": "stream",
     "text": [
      "Estoy en [0, 0]: _\n"
     ]
    },
    {
     "name": "stderr",
     "output_type": "stream",
     "text": [
      "Exception in thread Thread-14 (roomba):\n",
      "Traceback (most recent call last):\n",
      "  File \"/Users/leyvab/anaconda3/lib/python3.11/threading.py\", line 1038, in _bootstrap_inner\n",
      "    self.run()\n",
      "  File \"/Users/leyvab/.local/lib/python3.11/site-packages/ipykernel/ipkernel.py\", line 766, in run_closure\n",
      "    _threading_Thread_run(self)\n",
      "  File \"/Users/leyvab/anaconda3/lib/python3.11/threading.py\", line 975, in run\n",
      "    self._target(*self._args, **self._kwargs)\n",
      "  File \"/var/folders/qr/lfzsqc9j6wl1cyms865293240000gn/T/ipykernel_19217/1309098726.py\", line 7, in roomba\n",
      "  File \"/var/folders/qr/lfzsqc9j6wl1cyms865293240000gn/T/ipykernel_19217/3930551898.py\", line 4, in moverRoomba\n",
      "  File \"/var/folders/qr/lfzsqc9j6wl1cyms865293240000gn/T/ipykernel_19217/1798591980.py\", line 4, in moverArriba\n",
      "TypeError: unsupported operand type(s) for -: 'list' and 'int'\n"
     ]
    }
   ],
   "source": [
    "roombas(params)"
   ]
  }
 ],
 "metadata": {
  "kernelspec": {
   "display_name": "base",
   "language": "python",
   "name": "python3"
  },
  "language_info": {
   "codemirror_mode": {
    "name": "ipython",
    "version": 3
   },
   "file_extension": ".py",
   "mimetype": "text/x-python",
   "name": "python",
   "nbconvert_exporter": "python",
   "pygments_lexer": "ipython3",
   "version": "3.11.5"
  }
 },
 "nbformat": 4,
 "nbformat_minor": 2
}
